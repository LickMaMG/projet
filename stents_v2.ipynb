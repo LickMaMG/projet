{
 "cells": [
  {
   "cell_type": "code",
   "execution_count": null,
   "metadata": {
    "ExecuteTime": {
     "end_time": "2019-06-11T09:30:08.991851Z",
     "start_time": "2019-06-11T09:30:08.985860Z"
    }
   },
   "outputs": [],
   "source": [
    "import numpy as np\n",
    "import matplotlib.pyplot as plt\n",
    "%matplotlib inline\n",
    "import os\n",
    "import sys\n",
    "from PIL import Image\n",
    "import pipeline\n",
    "import tensorflow as tf"
   ]
  },
  {
   "cell_type": "code",
   "execution_count": null,
   "metadata": {
    "ExecuteTime": {
     "end_time": "2019-06-11T09:30:12.715558Z",
     "start_time": "2019-06-11T09:30:12.694561Z"
    }
   },
   "outputs": [],
   "source": [
    "dataset = pipeline.Pipeline(file='CDStent.raw').dataset #création de notre dataset\n",
    "x = []\n",
    "y = []\n",
    "for noised_images, labels in dataset:\n",
    "        x.append(noised_images.numpy())\n",
    "        y.append(labels.numpy())\n",
    "\n",
    "x = np.array(x, dtype=np.float32)\n",
    "y = np.array(y, dtype=np.float32)"
   ]
  },
  {
   "cell_type": "code",
   "execution_count": null,
   "metadata": {},
   "outputs": [],
   "source": [
    "from utils import plot_imgs\n",
    "plot_imgs(org_imgs=x, mask_imgs=y, nm_img_to_plot=6, figsize=6)"
   ]
  },
  {
   "attachments": {},
   "cell_type": "markdown",
   "metadata": {},
   "source": [
    "##  Train/val split"
   ]
  },
  {
   "cell_type": "code",
   "execution_count": null,
   "metadata": {
    "ExecuteTime": {
     "end_time": "2019-06-11T09:30:12.908912Z",
     "start_time": "2019-06-11T09:30:12.863912Z"
    }
   },
   "outputs": [],
   "source": [
    "from sklearn.model_selection import train_test_split\n",
    "\n",
    "x_train, x_val, y_train, y_val = train_test_split(x, y, test_size=0.5, random_state=42)\n",
    "\n",
    "print(\"x_train: \", x_train.shape)\n",
    "print(\"y_train: \", y_train.shape)\n",
    "print(\"x_val: \", x_val.shape)\n",
    "print(\"y_val: \", y_val.shape)"
   ]
  },
  {
   "attachments": {},
   "cell_type": "markdown",
   "metadata": {},
   "source": [
    "## Prepare train generator with data augmentation"
   ]
  },
  {
   "cell_type": "code",
   "execution_count": null,
   "metadata": {
    "ExecuteTime": {
     "end_time": "2019-06-11T09:30:13.426908Z",
     "start_time": "2019-06-11T09:30:12.911908Z"
    }
   },
   "outputs": [],
   "source": [
    "from utils import get_augmented\n",
    "\n",
    "train_gen = get_augmented(\n",
    "    x_train, y_train, batch_size=3,\n",
    "    data_gen_args = dict(\n",
    "        rotation_range=10.,\n",
    "        width_shift_range=0.05,\n",
    "        height_shift_range=0.05,\n",
    "        shear_range=50,\n",
    "        zoom_range=0.2,\n",
    "        horizontal_flip=True,\n",
    "        vertical_flip=False,\n",
    "        # fill_mode='nearest'\n",
    "    ))"
   ]
  },
  {
   "cell_type": "code",
   "execution_count": null,
   "metadata": {
    "ExecuteTime": {
     "end_time": "2019-06-11T09:30:14.195908Z",
     "start_time": "2019-06-11T09:30:13.428908Z"
    },
    "scrolled": true
   },
   "outputs": [],
   "source": [
    "sample_batch = next(train_gen)\n",
    "xx, yy = sample_batch\n",
    "plot_imgs(org_imgs=xx, mask_imgs=yy, nm_img_to_plot=2, figsize=6)"
   ]
  },
  {
   "attachments": {},
   "cell_type": "markdown",
   "metadata": {},
   "source": [
    "## Initialize network"
   ]
  },
  {
   "cell_type": "code",
   "execution_count": null,
   "metadata": {
    "ExecuteTime": {
     "end_time": "2019-06-11T09:30:14.510235Z",
     "start_time": "2019-06-11T09:30:14.197910Z"
    }
   },
   "outputs": [],
   "source": [
    "from unet import unet_model\n",
    "input_shape = x_train[0].shape\n",
    "\n",
    "model = unet_model(input_shape)"
   ]
  },
  {
   "cell_type": "code",
   "execution_count": null,
   "metadata": {
    "ExecuteTime": {
     "end_time": "2019-06-11T09:30:14.519910Z",
     "start_time": "2019-06-11T09:30:14.511921Z"
    },
    "scrolled": false
   },
   "outputs": [],
   "source": [
    "model.summary()"
   ]
  },
  {
   "cell_type": "code",
   "execution_count": null,
   "metadata": {
    "ExecuteTime": {
     "end_time": "2019-04-25T13:45:22.243669Z",
     "start_time": "2019-04-25T13:45:21.528107Z"
    }
   },
   "outputs": [],
   "source": [
    "# from utils import plot_model\n",
    "# plot_model(model, to_file='model.png')"
   ]
  },
  {
   "attachments": {},
   "cell_type": "markdown",
   "metadata": {},
   "source": [
    "## Compile + train"
   ]
  },
  {
   "cell_type": "code",
   "execution_count": null,
   "metadata": {
    "ExecuteTime": {
     "end_time": "2019-06-11T09:30:24.433203Z",
     "start_time": "2019-06-11T09:30:24.429202Z"
    }
   },
   "outputs": [],
   "source": [
    "from keras.callbacks import ModelCheckpoint\n",
    "model_filename = 'model_v0.h5'\n",
    "callback_checkpoint = ModelCheckpoint(\n",
    "    model_filename, \n",
    "    verbose=1, \n",
    "    monitor='val_loss', #pas besoin de modifier, cette fonction prend la loss fixée par model.compile\n",
    "    save_best_only=True,\n",
    ")"
   ]
  },
  {
   "cell_type": "code",
   "execution_count": null,
   "metadata": {
    "ExecuteTime": {
     "end_time": "2019-06-11T09:30:24.736240Z",
     "start_time": "2019-06-11T09:30:24.680251Z"
    }
   },
   "outputs": [],
   "source": [
    "from keras.optimizers import Adam, SGD\n",
    "from metrics import iou, iou_thresholded\n",
    "from losses import jaccard_distance\n",
    "# from sklearn.metrics import mean_squared_error, mean_absolute_error\n",
    "from keras.metrics import mean_absolute_error, mean_squared_error\n",
    "\n",
    "model.compile(\n",
    "    optimizer=Adam(learning_rate=1e-5),\n",
    "    loss='MSE', \n",
    "    metrics=[mean_squared_error, mean_absolute_error],\n",
    "    \n",
    ")\n"
   ]
  },
  {
   "cell_type": "code",
   "execution_count": null,
   "metadata": {
    "ExecuteTime": {
     "start_time": "2019-06-11T09:30:25.417Z"
    },
    "scrolled": false
   },
   "outputs": [],
   "source": [
    "history = model.fit(\n",
    "    train_gen,\n",
    "    steps_per_epoch=100,\n",
    "    epochs=10,\n",
    "    validation_data=(x_val, y_val),\n",
    "    callbacks=[callback_checkpoint])"
   ]
  },
  {
   "attachments": {},
   "cell_type": "markdown",
   "metadata": {},
   "source": [
    "## Plot training history"
   ]
  },
  {
   "cell_type": "code",
   "execution_count": null,
   "metadata": {
    "ExecuteTime": {
     "end_time": "2019-04-25T14:22:16.614268Z",
     "start_time": "2019-04-25T14:22:16.240266Z"
    }
   },
   "outputs": [],
   "source": [
    "from utils import plot_segm_history\n",
    "\n",
    "plot_segm_history(history)"
   ]
  },
  {
   "attachments": {},
   "cell_type": "markdown",
   "metadata": {},
   "source": [
    "## Plot original + ground truth + pred + overlay (pred on top of original)"
   ]
  },
  {
   "cell_type": "code",
   "execution_count": null,
   "metadata": {
    "ExecuteTime": {
     "end_time": "2019-04-25T14:24:19.609395Z",
     "start_time": "2019-04-25T14:24:03.016351Z"
    }
   },
   "outputs": [],
   "source": [
    "# model.load_weights(model_filename)\n",
    "y_pred = model.predict(x_val)\n",
    "plot_imgs(org_imgs=x_val, mask_imgs=y_val, pred_imgs=y_pred, nm_img_to_plot=9)"
   ]
  },
  {
   "cell_type": "code",
   "execution_count": null,
   "metadata": {},
   "outputs": [],
   "source": [
    "for i in range(10):\n",
    "  denoised_image = model.predict(np.expand_dims(x_val[i], axis=0))[0]\n",
    "\n",
    "  # Post-traitement de l'image débruitée\n",
    "  denoised_image = denoised_image * 255.\n",
    "  denoised_image = np.clip(denoised_image, 0, 255)\n",
    "  denoised_image = denoised_image.astype(np.uint8)\n",
    "  plt.imshow(denoised_image,cmap='gray'),plt.show()"
   ]
  }
 ],
 "metadata": {
  "kernelspec": {
   "display_name": "Python 3",
   "language": "python",
   "name": "python3"
  },
  "language_info": {
   "codemirror_mode": {
    "name": "ipython",
    "version": 3
   },
   "file_extension": ".py",
   "mimetype": "text/x-python",
   "name": "python",
   "nbconvert_exporter": "python",
   "pygments_lexer": "ipython3",
   "version": "3.10.7"
  }
 },
 "nbformat": 4,
 "nbformat_minor": 2
}
